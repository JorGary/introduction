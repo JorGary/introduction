{
 "cells": [
  {
   "cell_type": "markdown",
   "id": "e85781bd-25de-4b7b-8f32-b27de36d71b0",
   "metadata": {},
   "source": [
    "# My Jupyter Notebook on IBM Watson Studio"
   ]
  },
  {
   "cell_type": "markdown",
   "id": "ce5753f3-ff70-462f-91b0-108993a222d0",
   "metadata": {},
   "source": [
    "**Jorge**\n",
    "\n",
    "Data Scientist"
   ]
  },
  {
   "cell_type": "markdown",
   "id": "b074f18b-04de-4b96-9fbe-0898faae97c6",
   "metadata": {},
   "source": [
    "*I am interested in Data Science because I want to work with data and be able to predict what will happen next*"
   ]
  },
  {
   "cell_type": "markdown",
   "id": "e800b3a6-edef-464e-b36b-39aef99174f2",
   "metadata": {},
   "source": [
    "### Add up the numbers given and print them"
   ]
  },
  {
   "cell_type": "code",
   "execution_count": 1,
   "id": "45faf4ed-46c7-4ef2-886e-ee103c6644bc",
   "metadata": {},
   "outputs": [
    {
     "name": "stdout",
     "output_type": "stream",
     "text": [
      "3\n"
     ]
    }
   ],
   "source": [
    "a = 1\n",
    "b = 2\n",
    "c = a + b\n",
    "print(c)"
   ]
  },
  {
   "cell_type": "markdown",
   "id": "06e258a8-df1b-42da-aae0-91f53cd8b027",
   "metadata": {},
   "source": [
    "- Bullet point\n",
    "- Next\n",
    "- Final\n",
    "\n",
    "| Number | Letter |\n",
    "| ------ | ------ |\n",
    "| 1 | A |\n",
    "| 2 | B |\n",
    "| 3 | C |\n",
    "\n",
    "\n",
    "1. Creating a list\n",
    "2. Next part of the list\n",
    "3. Ending the list"
   ]
  }
 ],
 "metadata": {
  "kernelspec": {
   "display_name": "Python",
   "language": "python",
   "name": "conda-env-python-py"
  },
  "language_info": {
   "codemirror_mode": {
    "name": "ipython",
    "version": 3
   },
   "file_extension": ".py",
   "mimetype": "text/x-python",
   "name": "python",
   "nbconvert_exporter": "python",
   "pygments_lexer": "ipython3",
   "version": "3.7.12"
  }
 },
 "nbformat": 4,
 "nbformat_minor": 5
}
