{
 "cells": [
  {
   "cell_type": "markdown",
   "id": "e85781bd-25de-4b7b-8f32-b27de36d71b0",
   "metadata": {},
   "source": [
    "# Graded Work"
   ]
  },
  {
   "cell_type": "markdown",
   "id": "b074f18b-04de-4b96-9fbe-0898faae97c6",
   "metadata": {},
   "source": [
    "This is an introduction for the graded work"
   ]
  },
  {
   "cell_type": "markdown",
   "id": "f2b8d1c4-9e1d-42b5-a157-1ca4c8b72634",
   "metadata": {},
   "source": [
    "### Data Science languages\n",
    "1. R\n",
    "2. Python\n",
    "3. SQL"
   ]
  },
  {
   "cell_type": "markdown",
   "id": "887d0ca6-affd-44a9-8538-669ead1ee428",
   "metadata": {},
   "source": [
    "### Data Science libraries\n",
    "1. ggplot\n",
    "2. caret\n",
    "3. stringr"
   ]
  },
  {
   "cell_type": "markdown",
   "id": "5b03ac70-0425-4b6a-a84d-0662ef6db927",
   "metadata": {},
   "source": [
    "### Data Science tools\n",
    "| Language | Tool |\n",
    "| ------ | ------ |\n",
    "| Python | Jupyter |\n",
    "| R | R Studio |"
   ]
  },
  {
   "cell_type": "code",
   "execution_count": 4,
   "id": "ff128054-dc9f-4ad2-8f9f-edc056eae49c",
   "metadata": {},
   "outputs": [
    {
     "data": {
      "text/plain": [
       "2"
      ]
     },
     "execution_count": 4,
     "metadata": {},
     "output_type": "execute_result"
    }
   ],
   "source": [
    "4-2"
   ]
  },
  {
   "cell_type": "code",
   "execution_count": 6,
   "id": "043da370-c028-4756-a315-7ba06e3a5619",
   "metadata": {},
   "outputs": [
    {
     "data": {
      "text/plain": [
       "30"
      ]
     },
     "execution_count": 6,
     "metadata": {},
     "output_type": "execute_result"
    }
   ],
   "source": [
    "(5+5)*3"
   ]
  },
  {
   "cell_type": "code",
   "execution_count": 8,
   "id": "9d8c1cda-4aaa-49d0-b245-8f2c75962b0b",
   "metadata": {},
   "outputs": [
    {
     "name": "stdout",
     "output_type": "stream",
     "text": [
      "3.9\n"
     ]
    }
   ],
   "source": [
    "minutes = 234\n",
    "hour = minutes/60\n",
    "print(hour)"
   ]
  },
  {
   "cell_type": "markdown",
   "id": "0ce86afa-eb7a-4479-9f0f-68369ae0eadb",
   "metadata": {},
   "source": [
    "### Project objectives\n",
    "- Learn new abilities \n",
    "- Practice new things"
   ]
  },
  {
   "cell_type": "markdown",
   "id": "a795f9d1-ceea-4008-947c-f4b8c0379606",
   "metadata": {},
   "source": [
    "## Author's name: \n",
    "Jorge"
   ]
  },
  {
   "cell_type": "code",
   "execution_count": null,
   "id": "6b80e116-e862-4d39-bf4a-4d6dcef89614",
   "metadata": {},
   "outputs": [],
   "source": []
  }
 ],
 "metadata": {
  "kernelspec": {
   "display_name": "Python",
   "language": "python",
   "name": "conda-env-python-py"
  },
  "language_info": {
   "codemirror_mode": {
    "name": "ipython",
    "version": 3
   },
   "file_extension": ".py",
   "mimetype": "text/x-python",
   "name": "python",
   "nbconvert_exporter": "python",
   "pygments_lexer": "ipython3",
   "version": "3.7.12"
  }
 },
 "nbformat": 4,
 "nbformat_minor": 5
}
