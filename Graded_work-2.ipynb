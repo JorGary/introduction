{
 "cells": [
  {
   "cell_type": "markdown",
   "id": "e85781bd-25de-4b7b-8f32-b27de36d71b0",
   "metadata": {},
   "source": [
    "# Graded Work"
   ]
  },
  {
   "cell_type": "markdown",
   "id": "b074f18b-04de-4b96-9fbe-0898faae97c6",
   "metadata": {},
   "source": [
    "This is an introduction for the graded work."
   ]
  },
  {
   "cell_type": "markdown",
   "id": "f2b8d1c4-9e1d-42b5-a157-1ca4c8b72634",
   "metadata": {},
   "source": [
    "### Data Science languages\n",
    "1. Python\n",
    "2. R\n",
    "3. SQL"
   ]
  },
  {
   "cell_type": "markdown",
   "id": "887d0ca6-affd-44a9-8538-669ead1ee428",
   "metadata": {},
   "source": [
    "### Commonly used data science libraries:\n",
    "1. Pandas\n",
    "2. Numpy\n",
    "3. Matplotlib"
   ]
  },
  {
   "cell_type": "markdown",
   "id": "5b03ac70-0425-4b6a-a84d-0662ef6db927",
   "metadata": {},
   "source": [
    "### Data Science tools\n",
    "| Language |\n",
    "| ------ |\n",
    "| Jupyter Notebook|\n",
    "| R Studio |\n",
    "| Anaconda|"
   ]
  },
  {
   "cell_type": "markdown",
   "id": "f6c0399a",
   "metadata": {},
   "source": [
    "These are some examples of arithmetic operations"
   ]
  },
  {
   "cell_type": "code",
   "execution_count": 3,
   "id": "043da370-c028-4756-a315-7ba06e3a5619",
   "metadata": {},
   "outputs": [
    {
     "data": {
      "text/plain": [
       "17"
      ]
     },
     "execution_count": 3,
     "metadata": {},
     "output_type": "execute_result"
    }
   ],
   "source": [
    "#Basic arithmetic operation\n",
    "(4*3)+5"
   ]
  },
  {
   "cell_type": "code",
   "execution_count": 4,
   "id": "9d8c1cda-4aaa-49d0-b245-8f2c75962b0b",
   "metadata": {},
   "outputs": [
    {
     "data": {
      "text/plain": [
       "3.3333333333333335"
      ]
     },
     "execution_count": 4,
     "metadata": {},
     "output_type": "execute_result"
    }
   ],
   "source": [
    "#This will convert 200 minutes into hours\n",
    "200/60"
   ]
  },
  {
   "cell_type": "markdown",
   "id": "0ce86afa-eb7a-4479-9f0f-68369ae0eadb",
   "metadata": {},
   "source": [
    "### Project objectives\n",
    "- Learn new abilities \n",
    "- Practice new things"
   ]
  },
  {
   "cell_type": "markdown",
   "id": "a795f9d1-ceea-4008-947c-f4b8c0379606",
   "metadata": {},
   "source": [
    "## Author's name: \n",
    "Jorge"
   ]
  },
  {
   "cell_type": "code",
   "execution_count": null,
   "id": "6b80e116-e862-4d39-bf4a-4d6dcef89614",
   "metadata": {},
   "outputs": [],
   "source": []
  }
 ],
 "metadata": {
  "kernelspec": {
   "display_name": "Python 3",
   "language": "python",
   "name": "python3"
  },
  "language_info": {
   "codemirror_mode": {
    "name": "ipython",
    "version": 3
   },
   "file_extension": ".py",
   "mimetype": "text/x-python",
   "name": "python",
   "nbconvert_exporter": "python",
   "pygments_lexer": "ipython3",
   "version": "3.8.8"
  }
 },
 "nbformat": 4,
 "nbformat_minor": 5
}
